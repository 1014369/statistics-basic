{
  "nbformat": 4,
  "nbformat_minor": 0,
  "metadata": {
    "colab": {
      "provenance": []
    },
    "kernelspec": {
      "name": "python3",
      "display_name": "Python 3"
    },
    "language_info": {
      "name": "python"
    }
  },
  "cells": [
    {
      "cell_type": "markdown",
      "source": [
        "1.How do you calculate the mean, median, and mode of a dataset?"
      ],
      "metadata": {
        "id": "4m1oMVN3unF5"
      }
    },
    {
      "cell_type": "code",
      "source": [
        "import statistics\n",
        "dataset = [1, 2, 3, 4, 5, 6, 7, 8, 9, 10]\n",
        "mean = sum(dataset) / len(dataset)\n",
        "median = statistics.median(dataset)\n",
        "mode = statistics.mode(dataset)\n",
        "print(\"Mean:\", mean)\n",
        "print(\"Median:\", median)\n",
        "print(\"Mode:\", mode)"
      ],
      "metadata": {
        "colab": {
          "base_uri": "https://localhost:8080/"
        },
        "id": "Vg1EqdiSurDt",
        "outputId": "71180211-8e35-4349-867c-63c679076b39"
      },
      "execution_count": 1,
      "outputs": [
        {
          "output_type": "stream",
          "name": "stdout",
          "text": [
            "Mean: 5.5\n",
            "Median: 5.5\n",
            "Mode: 1\n"
          ]
        }
      ]
    },
    {
      "cell_type": "markdown",
      "source": [
        "2. Write a Python program to compute the variance and standard deviation of a dataset\n"
      ],
      "metadata": {
        "id": "7616hDSHxEgt"
      }
    },
    {
      "cell_type": "code",
      "source": [
        "import statistics\n",
        "dataset = [1, 2, 3, 4, 5, 6, 7, 8, 9, 10]\n",
        "variance = statistics.variance(dataset)\n",
        "standard_deviation = statistics.stdev(dataset)"
      ],
      "metadata": {
        "id": "w2oHUc2VxFjn"
      },
      "execution_count": null,
      "outputs": []
    },
    {
      "cell_type": "markdown",
      "source": [
        "3.  Create a dataset and classify it into nominal, ordinal, interval, and ratio types"
      ],
      "metadata": {
        "id": "-tVdlbaSxGgq"
      }
    },
    {
      "cell_type": "code",
      "source": [
        "import pandas as pd\n",
        "dataset = pd.DataFrame({\n",
        "    'name': ['John', 'Jane', 'Jack', 'Jill', 'Joe'],\n",
        "    'age': [25, 30, 35, 40, 45],\n",
        "    'gender': ['male', 'female', 'male', 'female', 'male'],\n",
        "    'income': [50000, 60000, 70000, 80000, 90000]\n",
        "})\n",
        "print(dataset.dtypes)\n"
      ],
      "metadata": {
        "colab": {
          "base_uri": "https://localhost:8080/"
        },
        "id": "65JsmGeMxNNf",
        "outputId": "0f468e64-19da-438f-f615-6c612489b981"
      },
      "execution_count": 2,
      "outputs": [
        {
          "output_type": "stream",
          "name": "stdout",
          "text": [
            "name      object\n",
            "age        int64\n",
            "gender    object\n",
            "income     int64\n",
            "dtype: object\n"
          ]
        }
      ]
    },
    {
      "cell_type": "markdown",
      "source": [
        "4. Implement sampling techniques like random sampling and stratified sampling"
      ],
      "metadata": {
        "id": "0NsoCubtxPOv"
      }
    },
    {
      "cell_type": "code",
      "source": [
        "import random\n",
        "dataset = [1, 2, 3, 4, 5, 6, 7, 8, 9, 10]\n",
        "random_sample = random.sample(dataset, 3)\n",
        "print(\"Random sample:\", random_sample)\n",
        "stratified_sample = []\n",
        "for i in range(1, 11):\n",
        "    if i % 2 == 0:\n",
        "        stratified_sample.append(i)\n",
        "print(\"Stratified sample:\", stratified_sample)\n"
      ],
      "metadata": {
        "colab": {
          "base_uri": "https://localhost:8080/"
        },
        "id": "OhPv3OJAxoQH",
        "outputId": "cfc7eaa2-e5b2-4ab9-8750-14d158c8dfbf"
      },
      "execution_count": 3,
      "outputs": [
        {
          "output_type": "stream",
          "name": "stdout",
          "text": [
            "Random sample: [4, 9, 3]\n",
            "Stratified sample: [2, 4, 6, 8, 10]\n"
          ]
        }
      ]
    },
    {
      "cell_type": "markdown",
      "source": [
        "5. Write a Python function to calculate the range of a dataset"
      ],
      "metadata": {
        "id": "rT2v73SAxldJ"
      }
    },
    {
      "cell_type": "code",
      "source": [
        "def range(dataset):\n",
        "    return max(dataset) - min(dataset)\n",
        "    dataset = [1, 2, 3, 4, 5, 6, 7, 8, 9, 10]\n",
        "print(\"Range:\", range(dataset))\n"
      ],
      "metadata": {
        "colab": {
          "base_uri": "https://localhost:8080/"
        },
        "id": "1VBAE4zzxUNh",
        "outputId": "9c4d224e-ce41-4f30-b9ec-696ad6962620"
      },
      "execution_count": 9,
      "outputs": [
        {
          "output_type": "stream",
          "name": "stdout",
          "text": [
            "Range: 9\n"
          ]
        }
      ]
    },
    {
      "cell_type": "markdown",
      "source": [
        "6.  Create a dataset and plot its histogram to visualize skewness"
      ],
      "metadata": {
        "id": "N5bEid-kx4KB"
      }
    },
    {
      "cell_type": "code",
      "source": [
        "import matplotlib.pyplot as plt\n",
        "dataset = [1, 2, 3, 4, 5, 6, 7, 8, 9, 10]\n",
        "plt.hist(dataset)\n",
        "plt.show()"
      ],
      "metadata": {
        "colab": {
          "base_uri": "https://localhost:8080/",
          "height": 430
        },
        "id": "UaKtZdKnx6yA",
        "outputId": "0faf0ccd-16c6-410d-c01d-5237f5b8c422"
      },
      "execution_count": 10,
      "outputs": [
        {
          "output_type": "display_data",
          "data": {
            "text/plain": [
              "<Figure size 640x480 with 1 Axes>"
            ],
            "image/png": "[encoded data removed]"
          },
          "metadata": {}
        }
      ]
    },
    {
      "cell_type": "markdown",
      "source": [
        "7. Calculate skewness and kurtosis of a dataset using Python libraries"
      ],
      "metadata": {
        "id": "FyKR78Jtx7hm"
      }
    },
    {
      "cell_type": "code",
      "source": [
        "from scipy.stats import skew, kurtosis\n",
        "dataset = [1, 2, 3, 4, 5, 6, 7, 8, 9, 10]\n",
        "print(\"Skewness:\", skew(dataset))\n",
        "print(\"Kurtosis:\", kurtosis(dataset))"
      ],
      "metadata": {
        "colab": {
          "base_uri": "https://localhost:8080/"
        },
        "id": "Rfnv3RE6yDZE",
        "outputId": "95b0a38f-2886-44e7-82ee-f6ac5b1c5962"
      },
      "execution_count": 11,
      "outputs": [
        {
          "output_type": "stream",
          "name": "stdout",
          "text": [
            "Skewness: 0.0\n",
            "Kurtosis: -1.2242424242424244\n"
          ]
        }
      ]
    },
    {
      "cell_type": "markdown",
      "source": [
        "8.  Generate a dataset and demonstrate positive and negative skewness"
      ],
      "metadata": {
        "id": "t9cnwIqsyEGn"
      }
    },
    {
      "cell_type": "code",
      "source": [
        "from scipy.stats import skew, kurtosis\n",
        "positive_skewed_dataset = [1, 2, 3, 4, 5, 6, 7, 8, 9, 10, 11, 12, 13, 14, 15]\n",
        "negative_skewed_dataset = [15, 14, 13, 12, 11, 10, 9, 8, 7, 6, 5, 4, 3, 2, 1]\n",
        "print(\"Positive Skewness:\", skew(positive_skewed_dataset))\n",
        "print(\"Negative Skewness:\", skew(negative_skewed_dataset))"
      ],
      "metadata": {
        "colab": {
          "base_uri": "https://localhost:8080/"
        },
        "id": "mERaNQB4yKQ8",
        "outputId": "6ba39c25-7baf-4cfc-e604-e51ece5fc35c"
      },
      "execution_count": 13,
      "outputs": [
        {
          "output_type": "stream",
          "name": "stdout",
          "text": [
            "Positive Skewness: 0.0\n",
            "Negative Skewness: 0.0\n"
          ]
        }
      ]
    },
    {
      "cell_type": "markdown",
      "source": [
        "9.  Write a Python script to calculate covariance between two datasets"
      ],
      "metadata": {
        "id": "JB7_gK7QyK4R"
      }
    },
    {
      "cell_type": "code",
      "source": [
        "import pandas as pd\n",
        "dataset1 = pd.Series([1, 2, 3, 4, 5])\n",
        "dataset2 = pd.Series([6, 7, 8, 9, 10])\n",
        "covariance = dataset1.cov(dataset2)"
      ],
      "metadata": {
        "id": "BvsYZM84yQW3"
      },
      "execution_count": 14,
      "outputs": []
    },
    {
      "cell_type": "markdown",
      "source": [
        "10.  Write a Python script to calculate the correlation coefficient between two datasets"
      ],
      "metadata": {
        "id": "qjYlxbDMyTQE"
      }
    },
    {
      "cell_type": "code",
      "source": [
        "import pandas as pd\n",
        "dataset1 = pd.Series([1, 2, 3, 4, 5])\n",
        "dataset2 = pd.Series([6, 7, 8, 9, 10])\n",
        "correlation = dataset1.corr(dataset2)"
      ],
      "metadata": {
        "id": "4T2IMNIpyUIt"
      },
      "execution_count": 15,
      "outputs": []
    },
    {
      "cell_type": "markdown",
      "source": [
        "11.  Create a scatter plot to visualize the relationship between two variables."
      ],
      "metadata": {
        "id": "6Wh2MeQQyU6l"
      }
    },
    {
      "cell_type": "code",
      "source": [
        "import matplotlib.pyplot as plt\n",
        "dataset1 = [1, 2, 3, 4, 5]\n",
        "dataset2 = [6, 7, 8, 9, 10]\n",
        "plt.scatter(dataset1, dataset2)"
      ],
      "metadata": {
        "colab": {
          "base_uri": "https://localhost:8080/",
          "height": 447
        },
        "id": "64RFqbFCyYpa",
        "outputId": "ac3fcd08-c625-4d9f-ca88-9755d4ab95df"
      },
      "execution_count": 16,
      "outputs": [
        {
          "output_type": "execute_result",
          "data": {
            "text/plain": [
              "<matplotlib.collections.PathCollection at 0x7e5902e00b90>"
            ]
          },
          "metadata": {},
          "execution_count": 16
        },
        {
          "output_type": "display_data",
          "data": {
            "text/plain": [
              "<Figure size 640x480 with 1 Axes>"
            ],
            "image/png": "[encoded data removed]"
          },
          "metadata": {}
        }
      ]
    },
    {
      "cell_type": "markdown",
      "source": [
        "12.  Implement and compare simple random sampling and systematic sampling"
      ],
      "metadata": {
        "id": "Xfst7dKZyZTq"
      }
    },
    {
      "cell_type": "markdown",
      "source": [
        "13. Calculate the mean, median, and mode of grouped data"
      ],
      "metadata": {
        "id": "swLZNVALyds-"
      }
    },
    {
      "cell_type": "code",
      "source": [
        "import pandas as pd\n",
        "dataset = pd.DataFrame({\n",
        "    'group': ['A', 'A', 'B', 'B', 'C', 'C'],\n",
        "    'value': [1, 2, 3, 4, 5, 6]\n",
        "})\n",
        "grouped_mean = dataset.groupby('group')['value'].mean()"
      ],
      "metadata": {
        "id": "32vLo6UAyizL"
      },
      "execution_count": 18,
      "outputs": []
    },
    {
      "cell_type": "markdown",
      "source": [
        "14.  Simulate data using Python and calculate its central tendency and dispersion."
      ],
      "metadata": {
        "id": "7R8dilKMyjrO"
      }
    },
    {
      "cell_type": "code",
      "source": [
        "import numpy as np\n",
        "dataset = np.random.normal(0, 1, 100)\n",
        "mean = np.mean(dataset)\n",
        "median = np.median(dataset)\n",
        "std_dev = np.std(dataset)"
      ],
      "metadata": {
        "id": "VXutaXshynVO"
      },
      "execution_count": 19,
      "outputs": []
    },
    {
      "cell_type": "markdown",
      "source": [
        "15. Use NumPy or pandas to summarize a dataset’s descriptive statistics."
      ],
      "metadata": {
        "id": "5DEzv8I9yo5y"
      }
    },
    {
      "cell_type": "code",
      "source": [
        "import pandas as pd\n",
        "import numpy as np\n",
        "dataset = pd.DataFrame({\n",
        "    'A': [1, 2, 3, 4, 5],\n",
        "    'B': [6, 7, 8, 9, 10]\n",
        "})\n",
        "summary = dataset.describe()"
      ],
      "metadata": {
        "id": "vTWuGdJfyya7"
      },
      "execution_count": 20,
      "outputs": []
    },
    {
      "cell_type": "markdown",
      "source": [
        "16.  Plot a boxplot to understand the spread and identify outliers."
      ],
      "metadata": {
        "id": "pUSSkM4cyzcA"
      }
    },
    {
      "cell_type": "code",
      "source": [
        "import matplotlib.pyplot as plt\n",
        "plt.boxplot([1,2,3,4])\n",
        "plt.ylabel('some numbers')\n",
        "plt.show()"
      ],
      "metadata": {
        "colab": {
          "base_uri": "https://localhost:8080/",
          "height": 430
        },
        "id": "N98eTz3Uy3rA",
        "outputId": "deb3601d-c1af-436d-8014-d43eca820b26"
      },
      "execution_count": 21,
      "outputs": [
        {
          "output_type": "display_data",
          "data": {
            "text/plain": [
              "<Figure size 640x480 with 1 Axes>"
            ],
            "image/png": "[encoded data removed]"
          },
          "metadata": {}
        }
      ]
    },
    {
      "cell_type": "markdown",
      "source": [
        "17. Calculate the interquartile range (IQR) of a dataset."
      ],
      "metadata": {
        "id": "KLdv8DPcy4V6"
      }
    },
    {
      "cell_type": "code",
      "source": [
        "Q1 = np.percentile(dataset, 25)\n",
        "Q3 = np.percentile(dataset, 75)\n",
        "IQR = Q3 - Q1"
      ],
      "metadata": {
        "id": "bjwKn1qly9WG"
      },
      "execution_count": 22,
      "outputs": []
    },
    {
      "cell_type": "markdown",
      "source": [
        "18.  Implement Z-score normalization and explain its significance."
      ],
      "metadata": {
        "id": "u2x9_w4fy-cd"
      }
    },
    {
      "cell_type": "code",
      "source": [
        "from scipy import stats\n",
        "z_scores = stats.zscore(dataset)\n",
        "print(z_scores)"
      ],
      "metadata": {
        "colab": {
          "base_uri": "https://localhost:8080/"
        },
        "id": "443FSubczBnm",
        "outputId": "36c54525-9738-482e-fbd6-73bef902a07e"
      },
      "execution_count": 23,
      "outputs": [
        {
          "output_type": "stream",
          "name": "stdout",
          "text": [
            "[[-1.41421356 -1.41421356]\n",
            " [-0.70710678 -0.70710678]\n",
            " [ 0.          0.        ]\n",
            " [ 0.70710678  0.70710678]\n",
            " [ 1.41421356  1.41421356]]\n"
          ]
        }
      ]
    },
    {
      "cell_type": "markdown",
      "source": [
        "19.  Compare two datasets using their standard deviations."
      ],
      "metadata": {
        "id": "B4uT0e1zzCg9"
      }
    },
    {
      "cell_type": "code",
      "source": [
        "import numpy as np\n",
        "dataset1 = np.array([1, 2, 3, 4, 5,6])\n",
        "dataset2 = np.array([6, 7, 8, 9, 10,11])\n",
        "std_dev1 = np.std(dataset1)"
      ],
      "metadata": {
        "id": "5LDC4NdSzGWZ"
      },
      "execution_count": 26,
      "outputs": []
    },
    {
      "cell_type": "markdown",
      "source": [
        "20.  Write a Python program to visualize covariance using a heatmap."
      ],
      "metadata": {
        "id": "JA0y6611zHRD"
      }
    },
    {
      "cell_type": "code",
      "source": [
        "import seaborn as sns\n",
        "import pandas as pd\n",
        "dataset1 = pd.Series([1, 2, 3, 4, 5])\n",
        "dataset2 = pd.Series([6, 7, 8, 9, 10])\n",
        "covariance_matrix = pd.DataFrame({'dataset1': dataset1, 'dataset2': dataset2}).cov()\n",
        "sns.heatmap(covariance_matrix, annot=True)"
      ],
      "metadata": {
        "colab": {
          "base_uri": "https://localhost:8080/",
          "height": 447
        },
        "id": "C80i99IJzKlm",
        "outputId": "d3e74f08-94f2-4aaf-fe6b-4bf2d1bb7bb9"
      },
      "execution_count": 27,
      "outputs": [
        {
          "output_type": "execute_result",
          "data": {
            "text/plain": [
              "<Axes: >"
            ]
          },
          "metadata": {},
          "execution_count": 27
        },
        {
          "output_type": "display_data",
          "data": {
            "text/plain": [
              "<Figure size 640x480 with 2 Axes>"
            ],
            "image/png": "[encoded data removed]"
          },
          "metadata": {}
        }
      ]
    },
    {
      "cell_type": "markdown",
      "source": [
        "21.  Use seaborn to create a correlation matrix for a dataset."
      ],
      "metadata": {
        "id": "cA9vqbkVzLPj"
      }
    },
    {
      "cell_type": "code",
      "source": [
        "import seaborn as sns\n",
        "import pandas as pd\n",
        "dataset = pd.DataFrame({'A': [1, 2, 3, 4, 5], 'B': [6, 7, 8, 9, 10]})\n",
        "correlation_matrix = dataset.corr()"
      ],
      "metadata": {
        "id": "Jn4BpdWXzO2R"
      },
      "execution_count": 28,
      "outputs": []
    },
    {
      "cell_type": "markdown",
      "source": [
        "22.  Generate a dataset and implement both variance and standard deviation computations."
      ],
      "metadata": {
        "id": "DgN0mbm2zPoH"
      }
    },
    {
      "cell_type": "code",
      "source": [
        "import pandas as pd\n",
        "dataset = pd.Series([1, 2, 3, 4, 5])\n",
        "variance = dataset.var()\n",
        "std_dev = dataset.std()"
      ],
      "metadata": {
        "id": "pYAIFxzHzSqq"
      },
      "execution_count": 29,
      "outputs": []
    },
    {
      "cell_type": "markdown",
      "source": [
        "23. Visualize skewness and kurtosis using Python libraries like matplotlib or seaborn."
      ],
      "metadata": {
        "id": "BObhoIxIzTPn"
      }
    },
    {
      "cell_type": "code",
      "source": [
        "import seaborn as sns\n",
        "import matplotlib.pyplot as plt\n",
        "dataset = pd.Series([1, 2, 3, 4, 5])\n",
        "sns.distplot(dataset, kde=False)\n",
        "plt.show()"
      ],
      "metadata": {
        "colab": {
          "base_uri": "https://localhost:8080/",
          "height": 621
        },
        "id": "N_ZVcoNtzWut",
        "outputId": "73789243-d001-41bc-f9ac-5c33d7b3c4d6"
      },
      "execution_count": 30,
      "outputs": [
        {
          "output_type": "stream",
          "name": "stderr",
          "text": [
            "/tmp/ipython-input-30-1817396773.py:4: UserWarning: \n",
            "\n",
            "`distplot` is a deprecated function and will be removed in seaborn v0.14.0.\n",
            "\n",
            "Please adapt your code to use either `displot` (a figure-level function with\n",
            "similar flexibility) or `histplot` (an axes-level function for histograms).\n",
            "\n",
            "For a guide to updating your code to use the new functions, please see\n",
            "https://gist.github.com/mwaskom/de44147ed2974457ad6372750bbe5751\n",
            "\n",
            "  sns.distplot(dataset, kde=False)\n"
          ]
        },
        {
          "output_type": "display_data",
          "data": {
            "text/plain": [
              "<Figure size 640x480 with 1 Axes>"
            ],
            "image/png": "[encoded data removed]"
          },
          "metadata": {}
        }
      ]
    },
    {
      "cell_type": "markdown",
      "source": [
        "24.  Implement the Pearson and Spearman correlation coefficients for a dataset."
      ],
      "metadata": {
        "id": "e7KVWWLLzXaR"
      }
    },
    {
      "cell_type": "code",
      "source": [
        "from scipy.stats import pearsonr, spearmanr\n",
        "import pandas as pd\n",
        "x=pd.Series([1, 2, 3, 4, 5])\n",
        "y=pd.Series([6, 7, 8, 9, 10])\n",
        "pearson_corr, _ = pearsonr(x, y)\n",
        "spearman_corr, _ = spearmanr(x, y)\n",
        "print(\"Pearson correlation coefficient:\", pearson_corr)\n",
        "print(\"Spearman correlation coefficient:\", spearman_corr)\n"
      ],
      "metadata": {
        "colab": {
          "base_uri": "https://localhost:8080/"
        },
        "id": "4Z0osIKKzaR0",
        "outputId": "c0932aae-5205-41a3-c732-4dfb67efd638"
      },
      "execution_count": 34,
      "outputs": [
        {
          "output_type": "stream",
          "name": "stdout",
          "text": [
            "Pearson correlation coefficient: 1.0\n",
            "Spearman correlation coefficient: 0.9999999999999999\n"
          ]
        }
      ]
    },
    {
      "cell_type": "code",
      "source": [],
      "metadata": {
        "id": "fswut3Fz4dIZ"
      },
      "execution_count": null,
      "outputs": []
    }
  ]
}